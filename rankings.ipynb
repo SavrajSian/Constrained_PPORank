{
 "cells": [
  {
   "cell_type": "code",
   "execution_count": 1,
   "id": "initial_id",
   "metadata": {
    "collapsed": true,
    "ExecuteTime": {
     "end_time": "2024-05-26T16:13:09.992127Z",
     "start_time": "2024-05-26T16:13:08.969687Z"
    }
   },
   "outputs": [],
   "source": [
    "import numpy as np\n",
    "import pandas as pd"
   ]
  },
  {
   "cell_type": "code",
   "outputs": [
    {
     "data": {
      "text/plain": "      severity\ndrug          \n32    2.170732\n23    2.339468\n6     2.407563\n11    2.476440\n8     2.489431\n12    2.546875\n27    2.590909\n35    2.595506\n20    2.610360\n30    2.630137\n7     2.633229\n36    2.680000\n2     2.685358\n3     2.722222\n21    2.759465\n31    2.785714\n4     2.814590\n29    2.857550\n18    2.901786\n19    2.902547\n33    2.906977\n28    2.965426\n37    3.000000\n25    3.036765\n9     3.039755\n34    3.042105\n10    3.058376\n24    3.066667\n17    3.087013\n26    3.200000\n22    3.205128\n14    3.214689\n0     3.220339\n5     3.243590\n1     3.245455\n16    3.272251\n15    3.371951\n13    3.666667",
      "text/html": "<div>\n<style scoped>\n    .dataframe tbody tr th:only-of-type {\n        vertical-align: middle;\n    }\n\n    .dataframe tbody tr th {\n        vertical-align: top;\n    }\n\n    .dataframe thead th {\n        text-align: right;\n    }\n</style>\n<table border=\"1\" class=\"dataframe\">\n  <thead>\n    <tr style=\"text-align: right;\">\n      <th></th>\n      <th>severity</th>\n    </tr>\n    <tr>\n      <th>drug</th>\n      <th></th>\n    </tr>\n  </thead>\n  <tbody>\n    <tr>\n      <th>32</th>\n      <td>2.170732</td>\n    </tr>\n    <tr>\n      <th>23</th>\n      <td>2.339468</td>\n    </tr>\n    <tr>\n      <th>6</th>\n      <td>2.407563</td>\n    </tr>\n    <tr>\n      <th>11</th>\n      <td>2.476440</td>\n    </tr>\n    <tr>\n      <th>8</th>\n      <td>2.489431</td>\n    </tr>\n    <tr>\n      <th>12</th>\n      <td>2.546875</td>\n    </tr>\n    <tr>\n      <th>27</th>\n      <td>2.590909</td>\n    </tr>\n    <tr>\n      <th>35</th>\n      <td>2.595506</td>\n    </tr>\n    <tr>\n      <th>20</th>\n      <td>2.610360</td>\n    </tr>\n    <tr>\n      <th>30</th>\n      <td>2.630137</td>\n    </tr>\n    <tr>\n      <th>7</th>\n      <td>2.633229</td>\n    </tr>\n    <tr>\n      <th>36</th>\n      <td>2.680000</td>\n    </tr>\n    <tr>\n      <th>2</th>\n      <td>2.685358</td>\n    </tr>\n    <tr>\n      <th>3</th>\n      <td>2.722222</td>\n    </tr>\n    <tr>\n      <th>21</th>\n      <td>2.759465</td>\n    </tr>\n    <tr>\n      <th>31</th>\n      <td>2.785714</td>\n    </tr>\n    <tr>\n      <th>4</th>\n      <td>2.814590</td>\n    </tr>\n    <tr>\n      <th>29</th>\n      <td>2.857550</td>\n    </tr>\n    <tr>\n      <th>18</th>\n      <td>2.901786</td>\n    </tr>\n    <tr>\n      <th>19</th>\n      <td>2.902547</td>\n    </tr>\n    <tr>\n      <th>33</th>\n      <td>2.906977</td>\n    </tr>\n    <tr>\n      <th>28</th>\n      <td>2.965426</td>\n    </tr>\n    <tr>\n      <th>37</th>\n      <td>3.000000</td>\n    </tr>\n    <tr>\n      <th>25</th>\n      <td>3.036765</td>\n    </tr>\n    <tr>\n      <th>9</th>\n      <td>3.039755</td>\n    </tr>\n    <tr>\n      <th>34</th>\n      <td>3.042105</td>\n    </tr>\n    <tr>\n      <th>10</th>\n      <td>3.058376</td>\n    </tr>\n    <tr>\n      <th>24</th>\n      <td>3.066667</td>\n    </tr>\n    <tr>\n      <th>17</th>\n      <td>3.087013</td>\n    </tr>\n    <tr>\n      <th>26</th>\n      <td>3.200000</td>\n    </tr>\n    <tr>\n      <th>22</th>\n      <td>3.205128</td>\n    </tr>\n    <tr>\n      <th>14</th>\n      <td>3.214689</td>\n    </tr>\n    <tr>\n      <th>0</th>\n      <td>3.220339</td>\n    </tr>\n    <tr>\n      <th>5</th>\n      <td>3.243590</td>\n    </tr>\n    <tr>\n      <th>1</th>\n      <td>3.245455</td>\n    </tr>\n    <tr>\n      <th>16</th>\n      <td>3.272251</td>\n    </tr>\n    <tr>\n      <th>15</th>\n      <td>3.371951</td>\n    </tr>\n    <tr>\n      <th>13</th>\n      <td>3.666667</td>\n    </tr>\n  </tbody>\n</table>\n</div>"
     },
     "execution_count": 452,
     "metadata": {},
     "output_type": "execute_result"
    }
   ],
   "source": [
    "drug_map = {'1032': 0, '281': 1, '1021': 2, '186': 3, '150': 4, '190': 5, '1019': 6, '249': 7, '1005': 8, '37': 9, '1006': 10, '1373': 11, '51': 12, '1': 13, '134': 14, '1010': 15, '238': 16, '34': 17, '119': 18, '1020': 19, '1008': 20, '1013': 21, '1017': 22, '1054': 23, '199': 24, '155': 25, '71': 26, '1175': 27, '206': 28, '30': 29, '5': 30, '1259': 31, '1199': 32, '1375': 33, '1372': 34, '1009': 35, '1033': 36, '1012': 37}\n",
    "drug_severities = pd.read_csv('GDSC_ALL/severity_scores.csv')\n",
    "drug_severities['drug_id'] = drug_severities['drug_id'].astype(str)\n",
    "drug_severities['drug_id'] = drug_severities['drug_id'].map(drug_map)\n",
    "drug_severities = drug_severities[['drug_id', 'normalised']]\n",
    "drug_severities.set_index('drug_id', inplace=True)\n",
    "severity_map = drug_severities.to_dict()['normalised']\n",
    "sorted_severities = sorted(severity_map.items(), key=lambda x: x[1])\n",
    "sorted_severities = pd.DataFrame(sorted_severities, columns=['drug', 'severity'])\n",
    "sorted_severities.set_index('drug', inplace=True)\n",
    "sorted_severities"
   ],
   "metadata": {
    "collapsed": false,
    "ExecuteTime": {
     "end_time": "2024-06-12T15:53:19.533396Z",
     "start_time": "2024-06-12T15:53:19.525514Z"
    }
   },
   "id": "c8e76e33caea17c6",
   "execution_count": 452
  },
  {
   "cell_type": "code",
   "outputs": [
    {
     "name": "stdout",
     "output_type": "stream",
     "text": [
      "min pen: 3.46276484274007\n",
      "max pen: 3.9688853997041\n"
     ]
    }
   ],
   "source": [
    "min_sorted_severities = sorted(severity_map.items(), key=lambda x: x[1])\n",
    "min_sorted_severities = [x[1] for x in min_sorted_severities]\n",
    "max_sorted_severities = min_sorted_severities[::-1]\n",
    "indices = np.arange(1,39)\n",
    "\n",
    "def pen_func(severities):\n",
    "    log_pens = severities * (-1*np.log(indices)+4)\n",
    "    total_log_pen = log_pens.sum()\n",
    "    total_log_pen_norm = total_log_pen / len(severities) # number of drugs isnt always the same\n",
    "    total_log_pen_norm = total_log_pen_norm \n",
    "    return total_log_pen_norm\n",
    "\n",
    "min_pen = pen_func(min_sorted_severities)\n",
    "max_pen = pen_func(max_sorted_severities)\n",
    "\n",
    "print('min pen:', min_pen)\n",
    "print('max pen:', max_pen)"
   ],
   "metadata": {
    "collapsed": false,
    "ExecuteTime": {
     "end_time": "2024-06-07T16:03:26.491855Z",
     "start_time": "2024-06-07T16:03:26.489403Z"
    }
   },
   "id": "a960b4e3782d1eb2",
   "execution_count": 309
  },
  {
   "cell_type": "markdown",
   "source": [
    "### Non constrained files:"
   ],
   "metadata": {
    "collapsed": false
   },
   "id": "6e307d919dfe6ab5"
  },
  {
   "cell_type": "code",
   "outputs": [],
   "source": [
    "# Non constrained files:\n",
    "#ranking = np.load('rankings/ppo_0_PPORank_FYP_lr1.5e-4_15xlrsched_epochs700_rewardscale100.npz') #.74184 . reached 0.74 NDCG\n",
    "#ranking = np.load('rankings/ppo_0_PPORank_FYP_lr1.5e-4_15xlrsched_epochs700_rwdscl100.npz')\n",
    "#ranking = np.load('rankings/PPORank_FYP_lr1.5e-4_15xlrsched_epochs700_rwdscl100.76029.npz')\n",
    "#ranking = np.load('rankings/ppo_0_PPORank_FYP_lr1.5e-4_15xlrsched_epochs700_rwdscl100_constrtrue_gradlambdanegative.npz') # this wasnt actually doing any constraints - what I added accidentally acted as a form of regularisation. reached 0.76 NDCG.\n",
    "#ranking = np.load('rankings/ppo_0_PPORank_FYP_lr1.5e-4_15xlrsched_epochs700_rwdscl100_0.76ndcg.npz') # from .76029 - reached 0.76 NDCG. atm prefer this one as benchmark for non-constrained.\n",
    "ranking = np.load('rankings/ppo_0_PPORank_FYP_lr1.5e-4_20xlrsched_epochs700_rwdscl100_benchmark5thjune.npz')"
   ],
   "metadata": {
    "collapsed": false,
    "ExecuteTime": {
     "end_time": "2024-06-12T15:54:00.836946Z",
     "start_time": "2024-06-12T15:54:00.833631Z"
    }
   },
   "id": "ba7142934200946b",
   "execution_count": 455
  },
  {
   "cell_type": "code",
   "outputs": [],
   "source": [
    "#ranking = np.load('rankings/ppo_0_PPORank_FYP_lr1.5e-4_15xlrsched_epochs700_rwdscl100_constrainedtrue.npz')\n",
    "#ranking = np.load('rankings/ppo_0_PPORank_FYP_lr1.5e-4_15xlrsched_epochs700_rwdscl100_constrainedtrue_12hr.npz') # lambda was adjusting properly here. was a small lambda value though, so worked less well than below.\n",
    "#ranking = np.load('rankings/ppo_0_PPORank_FYP_lr1.5e-4_15xlrsched_epochs700_rwdscl100_12hr_constrtrue.npz') #this has a constantly increasing lambda value. worked well tho\n",
    "#ranking = np.load('rankings/lambda1Ypred.npz') # top ranked drug was very low, 2nd was actually quite high. 3rd was lower, 4th slightly higher and 5th lower.\n",
    "#ranking = np.load('rankings/PPORank_FYP_lr2e-4_15xlrsched_epochs700_rwdscl100_12hr_constrtrue_lagrlam0.1.npz')\n",
    "#ranking = np.load('rankings/ppo_0_PPORank_FYP_lr1.5e-4_15xlrsched_epochs700_rwdscl100_constrtrue_gradlambdaorig.npz') #in the end this had constantly decreasing lambda - only went for 292 epochs though\n",
    "#ranking = np.load('rankings/ppo_0_PPORank_FYP_lr1.5e-4_15xlrsched_epochs700_rwdscl100_constrtrue_gradlambdanegative_epoch400.npz') #in the end this had constantly increasing lambda. went for 400 epochs.\n",
    "#ranking = np.load('rankings/ppo_0_PPORank_FYP_lr1.5e-4_15xlrsched_epochs700_rwdscl100_constr_laminupdate_alladds_epoch300.npz')\n",
    "#ranking = np.load('rankings/ppo_0_PPORank_FYP_lr1.5e-4_15xlrsched_epochs700_rwdscl100_constr_laminupdate_minuspen_epoch300.npz')\n",
    "#ranking = np.load('rankings/ppo_0_PPORank_FYP_lr1.5e-4_15xlrsched_epochs700_rwdscl100_constr_laminval_objfuncadd_losspenneg_epoch300.npz')\n",
    "#ranking = np.load('rankings/ppo_0_PPORank_FYP_lr1.7e-4_30xlrsched_epochs700_constrtrue_lagrlambda20_lambdalr0.2_epoch300.npz')\n",
    "#ranking = np.load('rankings/ppo_0_PPORank_FYP_lr1.7e-4_30xlrsched_epochs700_constrtrue_lagrlambda40_lambdalr0.2.npz')\n",
    "#ranking = np.load('rankings/ppo_0_240526_1629_epoch500.npz') #is --lr=1.5e-4 --reward_scale_factor=100 --constrained=True --lagrange_lambda=40 --lambda_lr=0.005\n",
    "#ranking = np.load('rankings/ppo_0_PPORank_FYP_lr1.7e-4_15xlrsched_epochs700_constr_quadraticloss_rho0.5.npz')\n",
    "#ranking = np.load('rankings/ppo_0_240528_0358.npz')\n",
    "#ranking = np.load('rankings/ppo_0_240528_1517_properlang_macrun.npz')"
   ],
   "metadata": {
    "collapsed": false,
    "ExecuteTime": {
     "end_time": "2024-06-07T13:15:53.763743Z",
     "start_time": "2024-06-07T13:15:53.755694Z"
    }
   },
   "id": "c8281593f8e379ea",
   "execution_count": 284
  },
  {
   "cell_type": "markdown",
   "source": [
    "### Lagrange loss files:"
   ],
   "metadata": {
    "collapsed": false
   },
   "id": "3b4c9fe2e63bc15c"
  },
  {
   "cell_type": "code",
   "outputs": [],
   "source": [
    "#ranking = np.load('rankings/ppo_0_PPORank_FYP_lr1.5e-4_15xlrsched_epochs700_constr_lagrproper_rwdscl1_lagrloss_lam0.1_lamlr1e-4_tgt3.6_CPU_epoch400.npz')\n",
    "\n",
    "#ranking = np.load('rankings/ppo_0_PPORank_FYP_lr1.5e-4_20xlrsched_epochs700_rwdscl1_constr_lagrloss_celulag0_laglr5e-5_tgt3.6.npz')\n",
    "ranking = np.load('rankings/ppo_0_PPORank_FYP_lr1.5e-4_20xlrsched_epochs700_rwdscl1_constr_lagrloss_celulag0.01_laglr5e-5_tgt3.6.npz')"
   ],
   "metadata": {
    "collapsed": false,
    "ExecuteTime": {
     "end_time": "2024-06-12T15:53:56.308003Z",
     "start_time": "2024-06-12T15:53:56.305444Z"
    }
   },
   "id": "c59a83c97cd0ca47",
   "execution_count": 454
  },
  {
   "cell_type": "markdown",
   "source": [
    "### Quadratic loss files:"
   ],
   "metadata": {
    "collapsed": false
   },
   "id": "da17bd9dddcf538f"
  },
  {
   "cell_type": "code",
   "outputs": [],
   "source": [
    "#ranking = np.load('rankings/ppo_0_PPORank_FYP_lr1.5e-4_15xlrsched_epochs700_constr_rwdscl1_quadloss_rho2.8_tgtpen3.6.npz')\n",
    "ranking = np.load('rankings/ppo_0_PPORank_FYP_lr1.5e-4_20xlrsched_epochs700_rwdscl1_constr_quadloss_max-0.02_rho2.8_tgt3.6_v2.npz')"
   ],
   "metadata": {
    "collapsed": false,
    "ExecuteTime": {
     "end_time": "2024-06-11T14:04:46.664264Z",
     "start_time": "2024-06-11T14:04:46.662089Z"
    }
   },
   "id": "dd799bc6db0f2212",
   "execution_count": 328
  },
  {
   "cell_type": "markdown",
   "source": [
    "### Augmented loss files:"
   ],
   "metadata": {
    "collapsed": false
   },
   "id": "1c334bd22e509e18"
  },
  {
   "cell_type": "code",
   "outputs": [],
   "source": [
    "#ranking = np.load('rankings/ppo_0_PPORank_FYP_lr1.5e-4_20xlrsched_epochs700_rwdscl1_constr_augloss_adjustrho_lam0_lamlr5e-5_rho2.8_tgt3.6_epoch300.npz')\n",
    "ranking = np.load('rankings/ppo_0_PPORank_FYP_lr1.5e-4_20xlrsched_epochs700_rwdscl1_constr_augloss_celulag0_laglr5e-5_rho4_tgt3.6.npz')"
   ],
   "metadata": {
    "collapsed": false,
    "ExecuteTime": {
     "end_time": "2024-06-12T15:15:27.507535Z",
     "start_time": "2024-06-12T15:15:27.505074Z"
    }
   },
   "id": "3c1d86ada4c51f46",
   "execution_count": 363
  },
  {
   "cell_type": "markdown",
   "source": [
    "#### things to note\n",
    "\n",
    "plot_files/PPORank_FYP_lr1.5e-4_15xlrsched_epochs700_rwdscl100.e75847 has the best performance so far."
   ],
   "metadata": {
    "collapsed": false
   },
   "id": "d8871f65ae129389"
  },
  {
   "cell_type": "code",
   "outputs": [],
   "source": [
    "pred = ranking['Y_pred']\n",
    "#true = ranking['Y_true']"
   ],
   "metadata": {
    "collapsed": false,
    "ExecuteTime": {
     "end_time": "2024-06-12T15:54:03.644915Z",
     "start_time": "2024-06-12T15:54:03.642161Z"
    }
   },
   "id": "5162ced63727b40f",
   "execution_count": 456
  },
  {
   "cell_type": "code",
   "outputs": [],
   "source": [
    "pred_df = pd.DataFrame(pred)\n",
    "#true_df = pd.DataFrame(true)"
   ],
   "metadata": {
    "collapsed": false,
    "ExecuteTime": {
     "end_time": "2024-06-12T15:54:03.906668Z",
     "start_time": "2024-06-12T15:54:03.904651Z"
    }
   },
   "id": "ebd65bee8ee054d",
   "execution_count": 457
  },
  {
   "cell_type": "code",
   "outputs": [],
   "source": [
    "# each row is a cell line, each column is a drug. Drug with highest value is most effective\n",
    "# get 5 most effective drugs for each cell line\n",
    "\n",
    "n = 38\n",
    "\n",
    "def get_top_5_drugs(row):\n",
    "    return row.nlargest(n).index\n",
    "\n",
    "top_5_pred = pred_df.apply(get_top_5_drugs, axis=1)\n",
    "top_5_pred = pd.DataFrame(top_5_pred.tolist(), index=pred_df.index, columns=[i for i in range(1, n+1)])\n",
    "most_common_per_rank = top_5_pred.mode(axis=0).transpose()\n",
    "#most_common_per_rank.columns = ['most common drug']\n",
    "\n",
    "#top_5_true = true_df.apply(get_top_5_drugs, axis=1)\n",
    "#top_5_true = pd.DataFrame(top_5_true.tolist(), index=true_df.index, columns=[1, 2, 3, 4, 5])"
   ],
   "metadata": {
    "collapsed": false,
    "ExecuteTime": {
     "end_time": "2024-06-12T15:54:04.419339Z",
     "start_time": "2024-06-12T15:54:04.393372Z"
    }
   },
   "id": "b4eb95b9be3eb103",
   "execution_count": 458
  },
  {
   "cell_type": "code",
   "outputs": [],
   "source": [
    "top_5_pred_severities = pd.DataFrame(index=top_5_pred.index, columns=[i for i in range(1, n+1)])\n",
    "#top_5_true_severities = pd.DataFrame(index=top_5_true.index, columns=[1, 2, 3, 4, 5])\n",
    "for i in range(1, n+1):\n",
    "    top_5_pred_severities[i] = top_5_pred[i].map(severity_map)\n",
    "    #top_5_true_severities[i] = top_5_true[i].map(severity_map)"
   ],
   "metadata": {
    "collapsed": false,
    "ExecuteTime": {
     "end_time": "2024-06-12T15:54:05.053318Z",
     "start_time": "2024-06-12T15:54:05.042049Z"
    }
   },
   "id": "8e6caffeb799af45",
   "execution_count": 459
  },
  {
   "cell_type": "code",
   "outputs": [],
   "source": [
    "avg_pred_severities = top_5_pred_severities.mean(axis=0)\n",
    "#avg_true_severities = top_5_true_severities.mean(axis=0)\n",
    "avg_pred_severities = pd.DataFrame(avg_pred_severities, columns=['avg pred severity'])\n",
    "avg_pred_severities=avg_pred_severities.join(most_common_per_rank)\n",
    "avg_pred_severities.columns = [ 'avg pred severity', 'most common drug']\n",
    "avg_pred_severities['severity of most common drug'] = avg_pred_severities['most common drug'].map(severity_map)\n",
    "avg_pred_severities.index.name = 'rank'"
   ],
   "metadata": {
    "collapsed": false,
    "ExecuteTime": {
     "end_time": "2024-06-12T15:54:05.472765Z",
     "start_time": "2024-06-12T15:54:05.468839Z"
    }
   },
   "id": "bd6e03d76658a100",
   "execution_count": 460
  },
  {
   "cell_type": "code",
   "outputs": [
    {
     "data": {
      "text/plain": "      avg pred severity  most common drug  severity of most common drug\nrank                                                                   \n1              2.767256                12                      2.546875\n2              2.941535                34                      3.042105\n3              2.965954                 0                      3.220339\n4              2.876931                18                      2.901786\n5              2.847647                35                      2.595506\n6              2.972417                28                      2.965426\n7              2.891243                35                      2.595506\n8              2.896598                32                      2.170732\n9              2.862776                32                      2.170732\n10             2.861035                32                      2.170732\n11             2.917407                33                      2.906977\n12             2.985978                 1                      3.245455\n13             2.929538                21                      2.759465\n14             2.947320                15                      3.371951\n15             2.919547                15                      3.371951\n16             2.950021                15                      3.371951\n17             2.932104                17                      3.087013\n18             2.979122                15                      3.371951\n19             2.909518                 9                      3.039755\n20             2.838521                36                      2.680000\n21             2.897432                 3                      2.722222\n22             2.907675                26                      3.200000\n23             2.781606                27                      2.590909\n24             2.727122                27                      2.590909\n25             2.739772                 4                      2.814590\n26             2.666974                 6                      2.407563\n27             2.739959                30                      2.630137\n28             2.793196                29                      2.857550\n29             2.647803                23                      2.339468\n30             3.126085                 5                      3.243590\n31             3.099824                22                      3.205128\n32             2.711418                 7                      2.633229\n33             3.028102                10                      3.058376\n34             2.971867                37                      3.000000\n35             3.018159                25                      3.036765\n36             2.686293                 2                      2.685358\n37             2.506430                 8                      2.489431\n38             3.200849                14                      3.214689",
      "text/html": "<div>\n<style scoped>\n    .dataframe tbody tr th:only-of-type {\n        vertical-align: middle;\n    }\n\n    .dataframe tbody tr th {\n        vertical-align: top;\n    }\n\n    .dataframe thead th {\n        text-align: right;\n    }\n</style>\n<table border=\"1\" class=\"dataframe\">\n  <thead>\n    <tr style=\"text-align: right;\">\n      <th></th>\n      <th>avg pred severity</th>\n      <th>most common drug</th>\n      <th>severity of most common drug</th>\n    </tr>\n    <tr>\n      <th>rank</th>\n      <th></th>\n      <th></th>\n      <th></th>\n    </tr>\n  </thead>\n  <tbody>\n    <tr>\n      <th>1</th>\n      <td>2.767256</td>\n      <td>12</td>\n      <td>2.546875</td>\n    </tr>\n    <tr>\n      <th>2</th>\n      <td>2.941535</td>\n      <td>34</td>\n      <td>3.042105</td>\n    </tr>\n    <tr>\n      <th>3</th>\n      <td>2.965954</td>\n      <td>0</td>\n      <td>3.220339</td>\n    </tr>\n    <tr>\n      <th>4</th>\n      <td>2.876931</td>\n      <td>18</td>\n      <td>2.901786</td>\n    </tr>\n    <tr>\n      <th>5</th>\n      <td>2.847647</td>\n      <td>35</td>\n      <td>2.595506</td>\n    </tr>\n    <tr>\n      <th>6</th>\n      <td>2.972417</td>\n      <td>28</td>\n      <td>2.965426</td>\n    </tr>\n    <tr>\n      <th>7</th>\n      <td>2.891243</td>\n      <td>35</td>\n      <td>2.595506</td>\n    </tr>\n    <tr>\n      <th>8</th>\n      <td>2.896598</td>\n      <td>32</td>\n      <td>2.170732</td>\n    </tr>\n    <tr>\n      <th>9</th>\n      <td>2.862776</td>\n      <td>32</td>\n      <td>2.170732</td>\n    </tr>\n    <tr>\n      <th>10</th>\n      <td>2.861035</td>\n      <td>32</td>\n      <td>2.170732</td>\n    </tr>\n    <tr>\n      <th>11</th>\n      <td>2.917407</td>\n      <td>33</td>\n      <td>2.906977</td>\n    </tr>\n    <tr>\n      <th>12</th>\n      <td>2.985978</td>\n      <td>1</td>\n      <td>3.245455</td>\n    </tr>\n    <tr>\n      <th>13</th>\n      <td>2.929538</td>\n      <td>21</td>\n      <td>2.759465</td>\n    </tr>\n    <tr>\n      <th>14</th>\n      <td>2.947320</td>\n      <td>15</td>\n      <td>3.371951</td>\n    </tr>\n    <tr>\n      <th>15</th>\n      <td>2.919547</td>\n      <td>15</td>\n      <td>3.371951</td>\n    </tr>\n    <tr>\n      <th>16</th>\n      <td>2.950021</td>\n      <td>15</td>\n      <td>3.371951</td>\n    </tr>\n    <tr>\n      <th>17</th>\n      <td>2.932104</td>\n      <td>17</td>\n      <td>3.087013</td>\n    </tr>\n    <tr>\n      <th>18</th>\n      <td>2.979122</td>\n      <td>15</td>\n      <td>3.371951</td>\n    </tr>\n    <tr>\n      <th>19</th>\n      <td>2.909518</td>\n      <td>9</td>\n      <td>3.039755</td>\n    </tr>\n    <tr>\n      <th>20</th>\n      <td>2.838521</td>\n      <td>36</td>\n      <td>2.680000</td>\n    </tr>\n    <tr>\n      <th>21</th>\n      <td>2.897432</td>\n      <td>3</td>\n      <td>2.722222</td>\n    </tr>\n    <tr>\n      <th>22</th>\n      <td>2.907675</td>\n      <td>26</td>\n      <td>3.200000</td>\n    </tr>\n    <tr>\n      <th>23</th>\n      <td>2.781606</td>\n      <td>27</td>\n      <td>2.590909</td>\n    </tr>\n    <tr>\n      <th>24</th>\n      <td>2.727122</td>\n      <td>27</td>\n      <td>2.590909</td>\n    </tr>\n    <tr>\n      <th>25</th>\n      <td>2.739772</td>\n      <td>4</td>\n      <td>2.814590</td>\n    </tr>\n    <tr>\n      <th>26</th>\n      <td>2.666974</td>\n      <td>6</td>\n      <td>2.407563</td>\n    </tr>\n    <tr>\n      <th>27</th>\n      <td>2.739959</td>\n      <td>30</td>\n      <td>2.630137</td>\n    </tr>\n    <tr>\n      <th>28</th>\n      <td>2.793196</td>\n      <td>29</td>\n      <td>2.857550</td>\n    </tr>\n    <tr>\n      <th>29</th>\n      <td>2.647803</td>\n      <td>23</td>\n      <td>2.339468</td>\n    </tr>\n    <tr>\n      <th>30</th>\n      <td>3.126085</td>\n      <td>5</td>\n      <td>3.243590</td>\n    </tr>\n    <tr>\n      <th>31</th>\n      <td>3.099824</td>\n      <td>22</td>\n      <td>3.205128</td>\n    </tr>\n    <tr>\n      <th>32</th>\n      <td>2.711418</td>\n      <td>7</td>\n      <td>2.633229</td>\n    </tr>\n    <tr>\n      <th>33</th>\n      <td>3.028102</td>\n      <td>10</td>\n      <td>3.058376</td>\n    </tr>\n    <tr>\n      <th>34</th>\n      <td>2.971867</td>\n      <td>37</td>\n      <td>3.000000</td>\n    </tr>\n    <tr>\n      <th>35</th>\n      <td>3.018159</td>\n      <td>25</td>\n      <td>3.036765</td>\n    </tr>\n    <tr>\n      <th>36</th>\n      <td>2.686293</td>\n      <td>2</td>\n      <td>2.685358</td>\n    </tr>\n    <tr>\n      <th>37</th>\n      <td>2.506430</td>\n      <td>8</td>\n      <td>2.489431</td>\n    </tr>\n    <tr>\n      <th>38</th>\n      <td>3.200849</td>\n      <td>14</td>\n      <td>3.214689</td>\n    </tr>\n  </tbody>\n</table>\n</div>"
     },
     "execution_count": 461,
     "metadata": {},
     "output_type": "execute_result"
    }
   ],
   "source": [
    "avg_pred_severities # leave this cell to be the non-constrained values"
   ],
   "metadata": {
    "collapsed": false,
    "ExecuteTime": {
     "end_time": "2024-06-12T15:54:07.400351Z",
     "start_time": "2024-06-12T15:54:07.393600Z"
    }
   },
   "id": "49955769c4778693",
   "execution_count": 461
  },
  {
   "cell_type": "markdown",
   "source": [],
   "metadata": {
    "collapsed": false
   },
   "id": "95572fd53dbbfd61"
  },
  {
   "cell_type": "code",
   "outputs": [
    {
     "data": {
      "text/plain": "      avg pred severity  most common drug  severity of most common drug\nrank                                                                   \n1              2.680220                12                      2.546875\n2              2.900328                34                      3.042105\n3              2.723865                 4                      2.814590\n4              2.645814                33                      2.906977\n5              2.636131                32                      2.170732\n6              2.646083                11                      2.476440\n7              2.644470                35                      2.595506\n8              2.728699                30                      2.630137\n9              2.683558                 2                      2.685358\n10             2.681708                36                      2.680000\n11             2.731661                23                      2.339468\n12             2.792321                36                      2.680000\n13             2.808847                28                      2.965426\n14             2.808872                31                      2.785714\n15             2.831467                31                      2.785714\n16             2.799084                18                      2.901786\n17             2.827058                 8                      2.489431\n18             2.828603                18                      2.901786\n19             2.840094                27                      2.590909\n20             2.841467                27                      2.590909\n21             2.832906                27                      2.590909\n22             2.908802                17                      3.087013\n23             2.806512                19                      2.902547\n24             2.808213                 6                      2.407563\n25             2.766164                 6                      2.407563\n26             2.789082                20                      2.610360\n27             2.772661                 7                      2.633229\n28             3.158900                 5                      3.243590\n29             3.241947                13                      3.666667\n30             3.050576                29                      2.857550",
      "text/html": "<div>\n<style scoped>\n    .dataframe tbody tr th:only-of-type {\n        vertical-align: middle;\n    }\n\n    .dataframe tbody tr th {\n        vertical-align: top;\n    }\n\n    .dataframe thead th {\n        text-align: right;\n    }\n</style>\n<table border=\"1\" class=\"dataframe\">\n  <thead>\n    <tr style=\"text-align: right;\">\n      <th></th>\n      <th>avg pred severity</th>\n      <th>most common drug</th>\n      <th>severity of most common drug</th>\n    </tr>\n    <tr>\n      <th>rank</th>\n      <th></th>\n      <th></th>\n      <th></th>\n    </tr>\n  </thead>\n  <tbody>\n    <tr>\n      <th>1</th>\n      <td>2.680220</td>\n      <td>12</td>\n      <td>2.546875</td>\n    </tr>\n    <tr>\n      <th>2</th>\n      <td>2.900328</td>\n      <td>34</td>\n      <td>3.042105</td>\n    </tr>\n    <tr>\n      <th>3</th>\n      <td>2.723865</td>\n      <td>4</td>\n      <td>2.814590</td>\n    </tr>\n    <tr>\n      <th>4</th>\n      <td>2.645814</td>\n      <td>33</td>\n      <td>2.906977</td>\n    </tr>\n    <tr>\n      <th>5</th>\n      <td>2.636131</td>\n      <td>32</td>\n      <td>2.170732</td>\n    </tr>\n    <tr>\n      <th>6</th>\n      <td>2.646083</td>\n      <td>11</td>\n      <td>2.476440</td>\n    </tr>\n    <tr>\n      <th>7</th>\n      <td>2.644470</td>\n      <td>35</td>\n      <td>2.595506</td>\n    </tr>\n    <tr>\n      <th>8</th>\n      <td>2.728699</td>\n      <td>30</td>\n      <td>2.630137</td>\n    </tr>\n    <tr>\n      <th>9</th>\n      <td>2.683558</td>\n      <td>2</td>\n      <td>2.685358</td>\n    </tr>\n    <tr>\n      <th>10</th>\n      <td>2.681708</td>\n      <td>36</td>\n      <td>2.680000</td>\n    </tr>\n    <tr>\n      <th>11</th>\n      <td>2.731661</td>\n      <td>23</td>\n      <td>2.339468</td>\n    </tr>\n    <tr>\n      <th>12</th>\n      <td>2.792321</td>\n      <td>36</td>\n      <td>2.680000</td>\n    </tr>\n    <tr>\n      <th>13</th>\n      <td>2.808847</td>\n      <td>28</td>\n      <td>2.965426</td>\n    </tr>\n    <tr>\n      <th>14</th>\n      <td>2.808872</td>\n      <td>31</td>\n      <td>2.785714</td>\n    </tr>\n    <tr>\n      <th>15</th>\n      <td>2.831467</td>\n      <td>31</td>\n      <td>2.785714</td>\n    </tr>\n    <tr>\n      <th>16</th>\n      <td>2.799084</td>\n      <td>18</td>\n      <td>2.901786</td>\n    </tr>\n    <tr>\n      <th>17</th>\n      <td>2.827058</td>\n      <td>8</td>\n      <td>2.489431</td>\n    </tr>\n    <tr>\n      <th>18</th>\n      <td>2.828603</td>\n      <td>18</td>\n      <td>2.901786</td>\n    </tr>\n    <tr>\n      <th>19</th>\n      <td>2.840094</td>\n      <td>27</td>\n      <td>2.590909</td>\n    </tr>\n    <tr>\n      <th>20</th>\n      <td>2.841467</td>\n      <td>27</td>\n      <td>2.590909</td>\n    </tr>\n    <tr>\n      <th>21</th>\n      <td>2.832906</td>\n      <td>27</td>\n      <td>2.590909</td>\n    </tr>\n    <tr>\n      <th>22</th>\n      <td>2.908802</td>\n      <td>17</td>\n      <td>3.087013</td>\n    </tr>\n    <tr>\n      <th>23</th>\n      <td>2.806512</td>\n      <td>19</td>\n      <td>2.902547</td>\n    </tr>\n    <tr>\n      <th>24</th>\n      <td>2.808213</td>\n      <td>6</td>\n      <td>2.407563</td>\n    </tr>\n    <tr>\n      <th>25</th>\n      <td>2.766164</td>\n      <td>6</td>\n      <td>2.407563</td>\n    </tr>\n    <tr>\n      <th>26</th>\n      <td>2.789082</td>\n      <td>20</td>\n      <td>2.610360</td>\n    </tr>\n    <tr>\n      <th>27</th>\n      <td>2.772661</td>\n      <td>7</td>\n      <td>2.633229</td>\n    </tr>\n    <tr>\n      <th>28</th>\n      <td>3.158900</td>\n      <td>5</td>\n      <td>3.243590</td>\n    </tr>\n    <tr>\n      <th>29</th>\n      <td>3.241947</td>\n      <td>13</td>\n      <td>3.666667</td>\n    </tr>\n    <tr>\n      <th>30</th>\n      <td>3.050576</td>\n      <td>29</td>\n      <td>2.857550</td>\n    </tr>\n  </tbody>\n</table>\n</div>"
     },
     "execution_count": 435,
     "metadata": {},
     "output_type": "execute_result"
    }
   ],
   "source": [
    "avg_pred_severities"
   ],
   "metadata": {
    "collapsed": false,
    "ExecuteTime": {
     "end_time": "2024-06-12T15:43:25.443579Z",
     "start_time": "2024-06-12T15:43:25.437019Z"
    }
   },
   "id": "a16110d352c4ba09",
   "execution_count": 435
  },
  {
   "cell_type": "code",
   "outputs": [],
   "source": [],
   "metadata": {
    "collapsed": false
   },
   "id": "8bc148ae9dd184d2"
  }
 ],
 "metadata": {
  "kernelspec": {
   "display_name": "Python 3",
   "language": "python",
   "name": "python3"
  },
  "language_info": {
   "codemirror_mode": {
    "name": "ipython",
    "version": 2
   },
   "file_extension": ".py",
   "mimetype": "text/x-python",
   "name": "python",
   "nbconvert_exporter": "python",
   "pygments_lexer": "ipython2",
   "version": "2.7.6"
  }
 },
 "nbformat": 4,
 "nbformat_minor": 5
}
