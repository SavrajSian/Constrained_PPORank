{
 "cells": [
  {
   "cell_type": "code",
   "execution_count": 1,
   "id": "initial_id",
   "metadata": {
    "collapsed": true,
    "ExecuteTime": {
     "end_time": "2024-05-26T16:13:09.992127Z",
     "start_time": "2024-05-26T16:13:08.969687Z"
    }
   },
   "outputs": [],
   "source": [
    "import numpy as np\n",
    "import pandas as pd"
   ]
  },
  {
   "cell_type": "code",
   "outputs": [
    {
     "data": {
      "text/plain": "[(32, 2.1707317073170733),\n (23, 2.339468302658487),\n (6, 2.407563025210084),\n (11, 2.4764397905759163),\n (8, 2.489430894308943),\n (12, 2.546875),\n (27, 2.590909090909091),\n (35, 2.595505617977528),\n (20, 2.61036036036036),\n (30, 2.6301369863013697),\n (7, 2.633228840125392),\n (36, 2.68),\n (2, 2.685358255451713),\n (3, 2.7222222222222223),\n (21, 2.7594654788418707),\n (31, 2.7857142857142856),\n (4, 2.814589665653495),\n (29, 2.857549857549857),\n (18, 2.9017857142857144),\n (19, 2.902547065337763),\n (33, 2.9069767441860463),\n (28, 2.9654255319148937),\n (37, 3.0),\n (25, 3.036764705882353),\n (9, 3.0397553516819573),\n (34, 3.042105263157895),\n (10, 3.0583756345177666),\n (24, 3.066666666666667),\n (17, 3.087012987012987),\n (26, 3.2),\n (22, 3.2051282051282053),\n (14, 3.214689265536723),\n (0, 3.2203389830508478),\n (5, 3.243589743589744),\n (1, 3.2454545454545456),\n (16, 3.272251308900524),\n (15, 3.3719512195121952),\n (13, 3.6666666666666665)]"
     },
     "execution_count": 87,
     "metadata": {},
     "output_type": "execute_result"
    }
   ],
   "source": [
    "drug_map = {'1032': 0, '281': 1, '1021': 2, '186': 3, '150': 4, '190': 5, '1019': 6, '249': 7, '1005': 8, '37': 9, '1006': 10, '1373': 11, '51': 12, '1': 13, '134': 14, '1010': 15, '238': 16, '34': 17, '119': 18, '1020': 19, '1008': 20, '1013': 21, '1017': 22, '1054': 23, '199': 24, '155': 25, '71': 26, '1175': 27, '206': 28, '30': 29, '5': 30, '1259': 31, '1199': 32, '1375': 33, '1372': 34, '1009': 35, '1033': 36, '1012': 37}\n",
    "drug_severities = pd.read_csv('GDSC_ALL/severity_scores.csv')\n",
    "drug_severities['drug_id'] = drug_severities['drug_id'].astype(str)\n",
    "drug_severities['drug_id'] = drug_severities['drug_id'].map(drug_map)\n",
    "drug_severities = drug_severities[['drug_id', 'normalised']]\n",
    "drug_severities.set_index('drug_id', inplace=True)\n",
    "severity_map = drug_severities.to_dict()['normalised']\n",
    "sorted_severities = sorted(severity_map.items(), key=lambda x: x[1])\n",
    "sorted_severities"
   ],
   "metadata": {
    "collapsed": false,
    "ExecuteTime": {
     "end_time": "2024-05-28T02:53:35.656785Z",
     "start_time": "2024-05-28T02:53:35.644617Z"
    }
   },
   "id": "c8e76e33caea17c6",
   "execution_count": 87
  },
  {
   "cell_type": "code",
   "outputs": [
    {
     "name": "stdout",
     "output_type": "stream",
     "text": [
      "min pen: 346.27648427400703\n",
      "max pen: 396.88853997040997\n"
     ]
    }
   ],
   "source": [
    "min_sorted_severities = sorted(severity_map.items(), key=lambda x: x[1])\n",
    "min_sorted_severities = [x[1] for x in min_sorted_severities]\n",
    "max_sorted_severities = min_sorted_severities[::-1]\n",
    "indices = np.arange(1,39)\n",
    "\n",
    "def pen_func(severities):\n",
    "    log_pens = severities * (-1*np.log(indices)+4)\n",
    "    total_log_pen = log_pens.sum()\n",
    "    total_log_pen_norm = total_log_pen / len(severities) # number of drugs isnt always the same\n",
    "    total_log_pen_norm = total_log_pen_norm * 100\n",
    "    return total_log_pen_norm\n",
    "\n",
    "min_pen = pen_func(min_sorted_severities)\n",
    "max_pen = pen_func(max_sorted_severities)\n",
    "\n",
    "print('min pen:', min_pen)\n",
    "print('max pen:', max_pen)"
   ],
   "metadata": {
    "collapsed": false,
    "ExecuteTime": {
     "end_time": "2024-05-28T03:42:16.143096Z",
     "start_time": "2024-05-28T03:42:16.138928Z"
    }
   },
   "id": "a960b4e3782d1eb2",
   "execution_count": 104
  },
  {
   "cell_type": "markdown",
   "source": [
    "### Non constrained files:"
   ],
   "metadata": {
    "collapsed": false
   },
   "id": "6e307d919dfe6ab5"
  },
  {
   "cell_type": "code",
   "outputs": [],
   "source": [
    "# Non constrained files:\n",
    "#ranking = np.load('rankings/ppo_0_PPORank_FYP_lr1.5e-4_15xlrsched_epochs700_rewardscale100.npz') #.74184 . reached 0.74 NDCG\n",
    "#ranking = np.load('rankings/ppo_0_PPORank_FYP_lr1.5e-4_15xlrsched_epochs700_rwdscl100.npz')\n",
    "#ranking = np.load('rankings/PPORank_FYP_lr1.5e-4_15xlrsched_epochs700_rwdscl100.76029.npz')\n",
    "#ranking = np.load('rankings/ppo_0_PPORank_FYP_lr1.5e-4_15xlrsched_epochs700_rwdscl100_constrtrue_gradlambdanegative.npz') # this wasnt actually doing any constraints - what I added accidentally acted as a form of regularisation. reached 0.76 NDCG.\n",
    "ranking = np.load('rankings/ppo_0_PPORank_FYP_lr1.5e-4_15xlrsched_epochs700_rwdscl100_0.76ndcg.npz') # from .76029 - reached 0.76 NDCG. atm prefer this one as benchmark for non-constrained."
   ],
   "metadata": {
    "collapsed": false,
    "ExecuteTime": {
     "end_time": "2024-05-28T20:25:42.967099Z",
     "start_time": "2024-05-28T20:25:42.947486Z"
    }
   },
   "id": "ba7142934200946b",
   "execution_count": 220
  },
  {
   "cell_type": "code",
   "outputs": [],
   "source": [
    "#ranking = np.load('rankings/ppo_0_PPORank_FYP_lr1.5e-4_15xlrsched_epochs700_rwdscl100_constrainedtrue.npz')\n",
    "#ranking = np.load('rankings/ppo_0_PPORank_FYP_lr1.5e-4_15xlrsched_epochs700_rwdscl100_constrainedtrue_12hr.npz') # lambda was adjusting properly here. was a small lambda value though, so worked less well than below.\n",
    "#ranking = np.load('rankings/ppo_0_PPORank_FYP_lr1.5e-4_15xlrsched_epochs700_rwdscl100_12hr_constrtrue.npz') #this has a constantly increasing lambda value. worked well tho\n",
    "#ranking = np.load('rankings/lambda1Ypred.npz') # top ranked drug was very low, 2nd was actually quite high. 3rd was lower, 4th slightly higher and 5th lower.\n",
    "#ranking = np.load('rankings/PPORank_FYP_lr2e-4_15xlrsched_epochs700_rwdscl100_12hr_constrtrue_lagrlam0.1.npz')\n",
    "#ranking = np.load('rankings/ppo_0_PPORank_FYP_lr1.5e-4_15xlrsched_epochs700_rwdscl100_constrtrue_gradlambdaorig.npz') #in the end this had constantly decreasing lambda - only went for 292 epochs though\n",
    "#ranking = np.load('rankings/ppo_0_PPORank_FYP_lr1.5e-4_15xlrsched_epochs700_rwdscl100_constrtrue_gradlambdanegative_epoch400.npz') #in the end this had constantly increasing lambda. went for 400 epochs.\n",
    "#ranking = np.load('rankings/ppo_0_PPORank_FYP_lr1.5e-4_15xlrsched_epochs700_rwdscl100_constr_laminupdate_alladds_epoch300.npz')\n",
    "#ranking = np.load('rankings/ppo_0_PPORank_FYP_lr1.5e-4_15xlrsched_epochs700_rwdscl100_constr_laminupdate_minuspen_epoch300.npz')\n",
    "#ranking = np.load('rankings/ppo_0_PPORank_FYP_lr1.5e-4_15xlrsched_epochs700_rwdscl100_constr_laminval_objfuncadd_losspenneg_epoch300.npz')\n",
    "#ranking = np.load('rankings/ppo_0_PPORank_FYP_lr1.7e-4_30xlrsched_epochs700_constrtrue_lagrlambda20_lambdalr0.2_epoch300.npz')\n",
    "#ranking = np.load('rankings/ppo_0_PPORank_FYP_lr1.7e-4_30xlrsched_epochs700_constrtrue_lagrlambda40_lambdalr0.2.npz')\n",
    "#ranking = np.load('rankings/ppo_0_240526_1629_epoch500.npz') #is --lr=1.5e-4 --reward_scale_factor=100 --constrained=True --lagrange_lambda=40 --lambda_lr=0.005\n",
    "#ranking = np.load('rankings/ppo_0_PPORank_FYP_lr1.7e-4_15xlrsched_epochs700_constr_quadraticloss_rho0.5.npz')\n",
    "#ranking = np.load('rankings/ppo_0_240528_0358.npz')\n",
    "ranking = np.load('rankings/ppo_0_240528_1517_properlang_macrun.npz')"
   ],
   "metadata": {
    "collapsed": false,
    "ExecuteTime": {
     "end_time": "2024-05-29T09:13:21.897926Z",
     "start_time": "2024-05-29T09:13:21.861693Z"
    }
   },
   "id": "c8281593f8e379ea",
   "execution_count": 236
  },
  {
   "cell_type": "markdown",
   "source": [
    "### Lagrange loss files:"
   ],
   "metadata": {
    "collapsed": false
   },
   "id": "3b4c9fe2e63bc15c"
  },
  {
   "cell_type": "code",
   "outputs": [],
   "source": [
    "ranking = np.load('rankings/ppo_0_PPORank_FYP_lr1.5e-4_15xlrsched_epochs700_constr_lagrproper_rwdscl1_lagrloss_lam0.1_lamlr1e-4_tgt3.6_CPU_epoch400.npz')"
   ],
   "metadata": {
    "collapsed": false,
    "ExecuteTime": {
     "end_time": "2024-05-30T15:15:01.359988Z",
     "start_time": "2024-05-30T15:15:01.357200Z"
    }
   },
   "id": "c59a83c97cd0ca47",
   "execution_count": 277
  },
  {
   "cell_type": "markdown",
   "source": [
    "### Quadratic loss files:"
   ],
   "metadata": {
    "collapsed": false
   },
   "id": "da17bd9dddcf538f"
  },
  {
   "cell_type": "code",
   "outputs": [],
   "source": [
    "ranking = np.load('rankings/ppo_0_PPORank_FYP_lr1.5e-4_15xlrsched_epochs700_constr_rwdscl1_quadloss_rho2.8_tgtpen3.6.npz')"
   ],
   "metadata": {
    "collapsed": false,
    "ExecuteTime": {
     "end_time": "2024-05-30T15:12:27.261447Z",
     "start_time": "2024-05-30T15:12:27.259458Z"
    }
   },
   "id": "dd799bc6db0f2212",
   "execution_count": 270
  },
  {
   "cell_type": "markdown",
   "source": [
    "#### things to note\n",
    "\n",
    "plot_files/PPORank_FYP_lr1.5e-4_15xlrsched_epochs700_rwdscl100.e75847 has the best performance so far."
   ],
   "metadata": {
    "collapsed": false
   },
   "id": "d8871f65ae129389"
  },
  {
   "cell_type": "code",
   "outputs": [],
   "source": [
    "pred = ranking['Y_pred']\n",
    "#true = ranking['Y_true']"
   ],
   "metadata": {
    "collapsed": false,
    "ExecuteTime": {
     "end_time": "2024-05-30T15:15:05.876979Z",
     "start_time": "2024-05-30T15:15:05.873978Z"
    }
   },
   "id": "5162ced63727b40f",
   "execution_count": 278
  },
  {
   "cell_type": "code",
   "outputs": [],
   "source": [
    "pred_df = pd.DataFrame(pred)\n",
    "#true_df = pd.DataFrame(true)"
   ],
   "metadata": {
    "collapsed": false,
    "ExecuteTime": {
     "end_time": "2024-05-30T15:15:06.141559Z",
     "start_time": "2024-05-30T15:15:06.139339Z"
    }
   },
   "id": "ebd65bee8ee054d",
   "execution_count": 279
  },
  {
   "cell_type": "code",
   "outputs": [],
   "source": [
    "# each row is a cell line, each column is a drug. Drug with highest value is most effective\n",
    "# get 5 most effective drugs for each cell line\n",
    "\n",
    "n = 10\n",
    "\n",
    "def get_top_5_drugs(row):\n",
    "    return row.nlargest(n).index\n",
    "\n",
    "top_5_pred = pred_df.apply(get_top_5_drugs, axis=1)\n",
    "top_5_pred = pd.DataFrame(top_5_pred.tolist(), index=pred_df.index, columns=[i for i in range(1, n+1)])\n",
    "most_common_per_rank = top_5_pred.mode(axis=0).transpose()\n",
    "#most_common_per_rank.columns = ['most common drug']\n",
    "\n",
    "#top_5_true = true_df.apply(get_top_5_drugs, axis=1)\n",
    "#top_5_true = pd.DataFrame(top_5_true.tolist(), index=true_df.index, columns=[1, 2, 3, 4, 5])"
   ],
   "metadata": {
    "collapsed": false,
    "ExecuteTime": {
     "end_time": "2024-05-30T15:15:06.477298Z",
     "start_time": "2024-05-30T15:15:06.440299Z"
    }
   },
   "id": "b4eb95b9be3eb103",
   "execution_count": 280
  },
  {
   "cell_type": "code",
   "outputs": [],
   "source": [
    "top_5_pred_severities = pd.DataFrame(index=top_5_pred.index, columns=[i for i in range(1, n+1)])\n",
    "#top_5_true_severities = pd.DataFrame(index=top_5_true.index, columns=[1, 2, 3, 4, 5])\n",
    "for i in range(1, n+1):\n",
    "    top_5_pred_severities[i] = top_5_pred[i].map(severity_map)\n",
    "    #top_5_true_severities[i] = top_5_true[i].map(severity_map)"
   ],
   "metadata": {
    "collapsed": false,
    "ExecuteTime": {
     "end_time": "2024-05-30T15:15:06.950815Z",
     "start_time": "2024-05-30T15:15:06.946283Z"
    }
   },
   "id": "8e6caffeb799af45",
   "execution_count": 281
  },
  {
   "cell_type": "code",
   "outputs": [],
   "source": [
    "avg_pred_severities = top_5_pred_severities.mean(axis=0)\n",
    "#avg_true_severities = top_5_true_severities.mean(axis=0)\n",
    "avg_pred_severities = pd.DataFrame(avg_pred_severities, columns=['avg pred severity'])\n",
    "avg_pred_severities=avg_pred_severities.join(most_common_per_rank)\n",
    "avg_pred_severities.columns = [ 'avg pred severity', 'most common drug']\n",
    "avg_pred_severities['severity of most common drug'] = avg_pred_severities['most common drug'].map(severity_map)\n",
    "avg_pred_severities.index.name = 'rank'"
   ],
   "metadata": {
    "collapsed": false,
    "ExecuteTime": {
     "end_time": "2024-05-30T15:15:07.689310Z",
     "start_time": "2024-05-30T15:15:07.685724Z"
    }
   },
   "id": "bd6e03d76658a100",
   "execution_count": 282
  },
  {
   "cell_type": "code",
   "outputs": [
    {
     "data": {
      "text/plain": "      avg pred severity  most common drug  severity of most common drug\nrank                                                                   \n1              2.954827                34                      3.042105\n2              2.769648                12                      2.546875\n3              2.989299                18                      2.901786\n4              2.994967                 0                      3.220339\n5              2.953523                28                      2.965426\n6              2.974240                16                      3.272251\n7              3.001563                21                      2.759465\n8              2.919005                21                      2.759465\n9              2.969353                13                      3.666667\n10             2.955677                 1                      3.245455",
      "text/html": "<div>\n<style scoped>\n    .dataframe tbody tr th:only-of-type {\n        vertical-align: middle;\n    }\n\n    .dataframe tbody tr th {\n        vertical-align: top;\n    }\n\n    .dataframe thead th {\n        text-align: right;\n    }\n</style>\n<table border=\"1\" class=\"dataframe\">\n  <thead>\n    <tr style=\"text-align: right;\">\n      <th></th>\n      <th>avg pred severity</th>\n      <th>most common drug</th>\n      <th>severity of most common drug</th>\n    </tr>\n    <tr>\n      <th>rank</th>\n      <th></th>\n      <th></th>\n      <th></th>\n    </tr>\n  </thead>\n  <tbody>\n    <tr>\n      <th>1</th>\n      <td>2.954827</td>\n      <td>34</td>\n      <td>3.042105</td>\n    </tr>\n    <tr>\n      <th>2</th>\n      <td>2.769648</td>\n      <td>12</td>\n      <td>2.546875</td>\n    </tr>\n    <tr>\n      <th>3</th>\n      <td>2.989299</td>\n      <td>18</td>\n      <td>2.901786</td>\n    </tr>\n    <tr>\n      <th>4</th>\n      <td>2.994967</td>\n      <td>0</td>\n      <td>3.220339</td>\n    </tr>\n    <tr>\n      <th>5</th>\n      <td>2.953523</td>\n      <td>28</td>\n      <td>2.965426</td>\n    </tr>\n    <tr>\n      <th>6</th>\n      <td>2.974240</td>\n      <td>16</td>\n      <td>3.272251</td>\n    </tr>\n    <tr>\n      <th>7</th>\n      <td>3.001563</td>\n      <td>21</td>\n      <td>2.759465</td>\n    </tr>\n    <tr>\n      <th>8</th>\n      <td>2.919005</td>\n      <td>21</td>\n      <td>2.759465</td>\n    </tr>\n    <tr>\n      <th>9</th>\n      <td>2.969353</td>\n      <td>13</td>\n      <td>3.666667</td>\n    </tr>\n    <tr>\n      <th>10</th>\n      <td>2.955677</td>\n      <td>1</td>\n      <td>3.245455</td>\n    </tr>\n  </tbody>\n</table>\n</div>"
     },
     "execution_count": 228,
     "metadata": {},
     "output_type": "execute_result"
    }
   ],
   "source": [
    "avg_pred_severities # leave this cell to be the non-constrained values"
   ],
   "metadata": {
    "collapsed": false,
    "ExecuteTime": {
     "end_time": "2024-05-28T20:27:14.141957Z",
     "start_time": "2024-05-28T20:27:14.130489Z"
    }
   },
   "id": "49955769c4778693",
   "execution_count": 228
  },
  {
   "cell_type": "markdown",
   "source": [],
   "metadata": {
    "collapsed": false
   },
   "id": "95572fd53dbbfd61"
  },
  {
   "cell_type": "code",
   "outputs": [
    {
     "data": {
      "text/plain": "      avg pred severity  most common drug  severity of most common drug\nrank                                                                   \n1              2.551773                12                      2.546875\n2              2.898082                34                      3.042105\n3              2.571645                11                      2.476440\n4              2.758992                18                      2.901786\n5              2.661675                32                      2.170732\n6              2.869786                28                      2.965426\n7              2.981898                28                      2.965426\n8              3.008489                16                      3.272251\n9              2.740006                30                      2.630137\n10             2.761918                35                      2.595506",
      "text/html": "<div>\n<style scoped>\n    .dataframe tbody tr th:only-of-type {\n        vertical-align: middle;\n    }\n\n    .dataframe tbody tr th {\n        vertical-align: top;\n    }\n\n    .dataframe thead th {\n        text-align: right;\n    }\n</style>\n<table border=\"1\" class=\"dataframe\">\n  <thead>\n    <tr style=\"text-align: right;\">\n      <th></th>\n      <th>avg pred severity</th>\n      <th>most common drug</th>\n      <th>severity of most common drug</th>\n    </tr>\n    <tr>\n      <th>rank</th>\n      <th></th>\n      <th></th>\n      <th></th>\n    </tr>\n  </thead>\n  <tbody>\n    <tr>\n      <th>1</th>\n      <td>2.551773</td>\n      <td>12</td>\n      <td>2.546875</td>\n    </tr>\n    <tr>\n      <th>2</th>\n      <td>2.898082</td>\n      <td>34</td>\n      <td>3.042105</td>\n    </tr>\n    <tr>\n      <th>3</th>\n      <td>2.571645</td>\n      <td>11</td>\n      <td>2.476440</td>\n    </tr>\n    <tr>\n      <th>4</th>\n      <td>2.758992</td>\n      <td>18</td>\n      <td>2.901786</td>\n    </tr>\n    <tr>\n      <th>5</th>\n      <td>2.661675</td>\n      <td>32</td>\n      <td>2.170732</td>\n    </tr>\n    <tr>\n      <th>6</th>\n      <td>2.869786</td>\n      <td>28</td>\n      <td>2.965426</td>\n    </tr>\n    <tr>\n      <th>7</th>\n      <td>2.981898</td>\n      <td>28</td>\n      <td>2.965426</td>\n    </tr>\n    <tr>\n      <th>8</th>\n      <td>3.008489</td>\n      <td>16</td>\n      <td>3.272251</td>\n    </tr>\n    <tr>\n      <th>9</th>\n      <td>2.740006</td>\n      <td>30</td>\n      <td>2.630137</td>\n    </tr>\n    <tr>\n      <th>10</th>\n      <td>2.761918</td>\n      <td>35</td>\n      <td>2.595506</td>\n    </tr>\n  </tbody>\n</table>\n</div>"
     },
     "execution_count": 276,
     "metadata": {},
     "output_type": "execute_result"
    }
   ],
   "source": [
    "avg_pred_severities"
   ],
   "metadata": {
    "collapsed": false,
    "ExecuteTime": {
     "end_time": "2024-05-30T15:12:32.008059Z",
     "start_time": "2024-05-30T15:12:32.004830Z"
    }
   },
   "id": "a16110d352c4ba09",
   "execution_count": 276
  },
  {
   "cell_type": "code",
   "outputs": [
    {
     "data": {
      "text/plain": "      avg pred severity  most common drug  severity of most common drug\nrank                                                                   \n1              2.546875                12                      2.546875\n2              3.042105                34                      3.042105\n3              2.196166                32                      2.170732\n4              2.801986                 4                      2.814590\n5              2.485953                11                      2.476440\n6              2.662814                 7                      2.633229\n7              2.808489                21                      2.759465\n8              3.115955                 0                      3.220339\n9              2.868612                18                      2.901786\n10             2.652247                20                      2.610360",
      "text/html": "<div>\n<style scoped>\n    .dataframe tbody tr th:only-of-type {\n        vertical-align: middle;\n    }\n\n    .dataframe tbody tr th {\n        vertical-align: top;\n    }\n\n    .dataframe thead th {\n        text-align: right;\n    }\n</style>\n<table border=\"1\" class=\"dataframe\">\n  <thead>\n    <tr style=\"text-align: right;\">\n      <th></th>\n      <th>avg pred severity</th>\n      <th>most common drug</th>\n      <th>severity of most common drug</th>\n    </tr>\n    <tr>\n      <th>rank</th>\n      <th></th>\n      <th></th>\n      <th></th>\n    </tr>\n  </thead>\n  <tbody>\n    <tr>\n      <th>1</th>\n      <td>2.546875</td>\n      <td>12</td>\n      <td>2.546875</td>\n    </tr>\n    <tr>\n      <th>2</th>\n      <td>3.042105</td>\n      <td>34</td>\n      <td>3.042105</td>\n    </tr>\n    <tr>\n      <th>3</th>\n      <td>2.196166</td>\n      <td>32</td>\n      <td>2.170732</td>\n    </tr>\n    <tr>\n      <th>4</th>\n      <td>2.801986</td>\n      <td>4</td>\n      <td>2.814590</td>\n    </tr>\n    <tr>\n      <th>5</th>\n      <td>2.485953</td>\n      <td>11</td>\n      <td>2.476440</td>\n    </tr>\n    <tr>\n      <th>6</th>\n      <td>2.662814</td>\n      <td>7</td>\n      <td>2.633229</td>\n    </tr>\n    <tr>\n      <th>7</th>\n      <td>2.808489</td>\n      <td>21</td>\n      <td>2.759465</td>\n    </tr>\n    <tr>\n      <th>8</th>\n      <td>3.115955</td>\n      <td>0</td>\n      <td>3.220339</td>\n    </tr>\n    <tr>\n      <th>9</th>\n      <td>2.868612</td>\n      <td>18</td>\n      <td>2.901786</td>\n    </tr>\n    <tr>\n      <th>10</th>\n      <td>2.652247</td>\n      <td>20</td>\n      <td>2.610360</td>\n    </tr>\n  </tbody>\n</table>\n</div>"
     },
     "execution_count": 283,
     "metadata": {},
     "output_type": "execute_result"
    }
   ],
   "source": [
    "avg_pred_severities"
   ],
   "metadata": {
    "collapsed": false,
    "ExecuteTime": {
     "end_time": "2024-05-30T15:15:11.090982Z",
     "start_time": "2024-05-30T15:15:11.087646Z"
    }
   },
   "id": "d6142d55fa40d503",
   "execution_count": 283
  },
  {
   "cell_type": "code",
   "outputs": [],
   "source": [],
   "metadata": {
    "collapsed": false
   },
   "id": "8bc148ae9dd184d2"
  }
 ],
 "metadata": {
  "kernelspec": {
   "display_name": "Python 3",
   "language": "python",
   "name": "python3"
  },
  "language_info": {
   "codemirror_mode": {
    "name": "ipython",
    "version": 2
   },
   "file_extension": ".py",
   "mimetype": "text/x-python",
   "name": "python",
   "nbconvert_exporter": "python",
   "pygments_lexer": "ipython2",
   "version": "2.7.6"
  }
 },
 "nbformat": 4,
 "nbformat_minor": 5
}
