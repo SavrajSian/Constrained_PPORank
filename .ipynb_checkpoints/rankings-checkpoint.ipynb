{
 "cells": [
  {
   "cell_type": "code",
   "execution_count": 1,
   "id": "initial_id",
   "metadata": {
    "collapsed": true,
    "ExecuteTime": {
     "end_time": "2024-05-19T20:02:26.073593Z",
     "start_time": "2024-05-19T20:02:25.654039Z"
    }
   },
   "outputs": [],
   "source": [
    "import numpy as np\n",
    "import pandas as pd"
   ]
  },
  {
   "cell_type": "code",
   "outputs": [],
   "source": [
    "drug_map = {'1032': 0, '281': 1, '1021': 2, '186': 3, '150': 4, '190': 5, '1019': 6, '249': 7, '1005': 8, '37': 9, '1006': 10, '1373': 11, '51': 12, '1': 13, '134': 14, '1010': 15, '238': 16, '34': 17, '119': 18, '1020': 19, '1008': 20, '1013': 21, '1017': 22, '1054': 23, '199': 24, '155': 25, '71': 26, '1175': 27, '206': 28, '30': 29, '5': 30, '1259': 31, '1199': 32, '1375': 33, '1372': 34, '1009': 35, '1033': 36, '1012': 37}\n",
    "drug_severities = pd.read_csv('GDSC_ALL/severity_scores.csv')\n",
    "drug_severities['drug_id'] = drug_severities['drug_id'].astype(str)\n",
    "drug_severities['drug_id'] = drug_severities['drug_id'].map(drug_map)\n",
    "drug_severities = drug_severities[['drug_id', 'normalised']]\n",
    "drug_severities.set_index('drug_id', inplace=True)\n",
    "severity_map = drug_severities.to_dict()['normalised']"
   ],
   "metadata": {
    "collapsed": false,
    "ExecuteTime": {
     "end_time": "2024-05-19T20:17:55.386234Z",
     "start_time": "2024-05-19T20:17:55.377697Z"
    }
   },
   "id": "c8e76e33caea17c6",
   "execution_count": 38
  },
  {
   "cell_type": "code",
   "outputs": [],
   "source": [
    "ranking = np.load('rankings/ppo_0_PPORank_FYP_lr1.5e-4_15xlrsched_epochs700_rewardscale100.npz')\n",
    "#ranking = np.load('rankings/ppo_0_PPORank_FYP_lr1.5e-4_15xlrsched_epochs700_rwdscl100_constrainedtrue.npz')\n",
    "#ranking = np.load('rankings/ppo_0_PPORank_FYP_lr1.5e-4_15xlrsched_epochs700_rwdscl100_constrainedtrue_12hr.npz') # lambda was adjusting properly here. was a small lambda value though, so worked less well than below.\n",
    "#ranking = np.load('rankings/ppo_0_PPORank_FYP_lr1.5e-4_15xlrsched_epochs700_rwdscl100_12hr_constrtrue.npz') #this has a constantly increasing lambda value. worked well tho\n"
   ],
   "metadata": {
    "collapsed": false,
    "ExecuteTime": {
     "end_time": "2024-05-20T12:34:42.667345Z",
     "start_time": "2024-05-20T12:34:42.665049Z"
    }
   },
   "id": "c8281593f8e379ea",
   "execution_count": 247
  },
  {
   "cell_type": "code",
   "outputs": [],
   "source": [
    "pred = ranking['Y_pred']\n",
    "true = ranking['Y_true']"
   ],
   "metadata": {
    "collapsed": false,
    "ExecuteTime": {
     "end_time": "2024-05-20T12:34:43.024865Z",
     "start_time": "2024-05-20T12:34:43.022600Z"
    }
   },
   "id": "5162ced63727b40f",
   "execution_count": 248
  },
  {
   "cell_type": "code",
   "outputs": [],
   "source": [
    "pred_df = pd.DataFrame(pred)\n",
    "true_df = pd.DataFrame(true)"
   ],
   "metadata": {
    "collapsed": false,
    "ExecuteTime": {
     "end_time": "2024-05-20T12:34:43.391435Z",
     "start_time": "2024-05-20T12:34:43.389841Z"
    }
   },
   "id": "ebd65bee8ee054d",
   "execution_count": 249
  },
  {
   "cell_type": "code",
   "outputs": [],
   "source": [
    "# each row is a cell line, each column is a drug. Drug with highest value is most effective\n",
    "# get 5 most effective drugs for each cell line\n",
    "\n",
    "def get_top_5_drugs(row):\n",
    "    return row.nlargest(5).index\n",
    "\n",
    "top_5_pred = pred_df.apply(get_top_5_drugs, axis=1)\n",
    "top_5_pred = pd.DataFrame(top_5_pred.tolist(), index=pred_df.index, columns=[1, 2, 3, 4, 5])\n",
    "\n",
    "top_5_true = true_df.apply(get_top_5_drugs, axis=1)\n",
    "top_5_true = pd.DataFrame(top_5_true.tolist(), index=true_df.index, columns=[1, 2, 3, 4, 5])"
   ],
   "metadata": {
    "collapsed": false,
    "ExecuteTime": {
     "end_time": "2024-05-20T12:34:43.840624Z",
     "start_time": "2024-05-20T12:34:43.786968Z"
    }
   },
   "id": "b4eb95b9be3eb103",
   "execution_count": 250
  },
  {
   "cell_type": "code",
   "outputs": [],
   "source": [
    "top_5_pred_severities = pd.DataFrame(index=top_5_pred.index, columns=[1, 2, 3, 4, 5])\n",
    "top_5_true_severities = pd.DataFrame(index=top_5_true.index, columns=[1, 2, 3, 4, 5])\n",
    "for i in range(1, 6):\n",
    "    top_5_pred_severities[i] = top_5_pred[i].map(severity_map)\n",
    "    top_5_true_severities[i] = top_5_true[i].map(severity_map)"
   ],
   "metadata": {
    "collapsed": false,
    "ExecuteTime": {
     "end_time": "2024-05-20T12:34:44.271268Z",
     "start_time": "2024-05-20T12:34:44.266756Z"
    }
   },
   "id": "8e6caffeb799af45",
   "execution_count": 251
  },
  {
   "cell_type": "code",
   "outputs": [],
   "source": [
    "avg_pred_severities = top_5_pred_severities.mean(axis=0)\n",
    "avg_true_severities = top_5_true_severities.mean(axis=0)"
   ],
   "metadata": {
    "collapsed": false,
    "ExecuteTime": {
     "end_time": "2024-05-20T12:34:44.802237Z",
     "start_time": "2024-05-20T12:34:44.800071Z"
    }
   },
   "id": "bd6e03d76658a100",
   "execution_count": 252
  },
  {
   "cell_type": "code",
   "outputs": [
    {
     "data": {
      "text/plain": "1    2.812835\n2    2.987619\n3    3.039702\n4    3.058430\n5    3.057221\ndtype: float64"
     },
     "execution_count": 253,
     "metadata": {},
     "output_type": "execute_result"
    }
   ],
   "source": [
    "avg_pred_severities # leave this cell to be the non-constrained values"
   ],
   "metadata": {
    "collapsed": false,
    "ExecuteTime": {
     "end_time": "2024-05-20T12:34:45.334175Z",
     "start_time": "2024-05-20T12:34:45.331329Z"
    }
   },
   "id": "49955769c4778693",
   "execution_count": 253
  },
  {
   "cell_type": "code",
   "outputs": [
    {
     "data": {
      "text/plain": "1    3.020026\n2    2.967971\n3    2.935627\n4    2.951924\n5    2.934513\ndtype: float64"
     },
     "execution_count": 246,
     "metadata": {},
     "output_type": "execute_result"
    }
   ],
   "source": [
    "avg_pred_severities"
   ],
   "metadata": {
    "collapsed": false,
    "ExecuteTime": {
     "end_time": "2024-05-20T12:33:37.076269Z",
     "start_time": "2024-05-20T12:33:37.072380Z"
    }
   },
   "id": "a16110d352c4ba09",
   "execution_count": 246
  },
  {
   "cell_type": "code",
   "outputs": [],
   "source": [],
   "metadata": {
    "collapsed": false,
    "ExecuteTime": {
     "end_time": "2024-05-19T21:18:28.634647Z",
     "start_time": "2024-05-19T21:18:28.633479Z"
    }
   },
   "id": "6dbfb4c294cef61f",
   "execution_count": 99
  },
  {
   "cell_type": "code",
   "outputs": [],
   "source": [],
   "metadata": {
    "collapsed": false,
    "ExecuteTime": {
     "end_time": "2024-05-20T12:09:54.109732Z",
     "start_time": "2024-05-20T12:09:54.106939Z"
    }
   },
   "id": "ed765916ee827315",
   "execution_count": 162
  },
  {
   "cell_type": "code",
   "outputs": [],
   "source": [],
   "metadata": {
    "collapsed": false,
    "ExecuteTime": {
     "end_time": "2024-05-20T12:09:54.255924Z",
     "start_time": "2024-05-20T12:09:54.254676Z"
    }
   },
   "id": "a7fe3463ee8a3d6e",
   "execution_count": 162
  },
  {
   "cell_type": "code",
   "outputs": [],
   "source": [],
   "metadata": {
    "collapsed": false,
    "ExecuteTime": {
     "end_time": "2024-05-20T12:09:54.412185Z",
     "start_time": "2024-05-20T12:09:54.410898Z"
    }
   },
   "id": "b26c3bb509a437b9",
   "execution_count": 162
  },
  {
   "cell_type": "code",
   "outputs": [],
   "source": [],
   "metadata": {
    "collapsed": false,
    "ExecuteTime": {
     "end_time": "2024-05-20T12:09:54.564735Z",
     "start_time": "2024-05-20T12:09:54.563313Z"
    }
   },
   "id": "59b2d400fd93f5fa",
   "execution_count": 162
  },
  {
   "cell_type": "code",
   "outputs": [],
   "source": [],
   "metadata": {
    "collapsed": false,
    "ExecuteTime": {
     "end_time": "2024-05-20T12:09:54.714197Z",
     "start_time": "2024-05-20T12:09:54.712768Z"
    }
   },
   "id": "d5d07b2525569e1d",
   "execution_count": 162
  },
  {
   "cell_type": "code",
   "outputs": [],
   "source": [],
   "metadata": {
    "collapsed": false,
    "ExecuteTime": {
     "end_time": "2024-05-20T12:09:54.846176Z",
     "start_time": "2024-05-20T12:09:54.844922Z"
    }
   },
   "id": "f43d93180f256a9e",
   "execution_count": 162
  },
  {
   "cell_type": "code",
   "outputs": [],
   "source": [],
   "metadata": {
    "collapsed": false
   },
   "id": "1ed87ef4c38af278"
  }
 ],
 "metadata": {
  "kernelspec": {
   "display_name": "Python 3",
   "language": "python",
   "name": "python3"
  },
  "language_info": {
   "codemirror_mode": {
    "name": "ipython",
    "version": 2
   },
   "file_extension": ".py",
   "mimetype": "text/x-python",
   "name": "python",
   "nbconvert_exporter": "python",
   "pygments_lexer": "ipython2",
   "version": "2.7.6"
  }
 },
 "nbformat": 4,
 "nbformat_minor": 5
}
